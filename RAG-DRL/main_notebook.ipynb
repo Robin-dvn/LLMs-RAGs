{
 "cells": [
  {
   "cell_type": "markdown",
   "metadata": {},
   "source": [
    "## Création d'un RAG en Local sur un ensemble de papier de recherche en Reinforcement Deep Learning \n",
    "\n",
    "OpenAI liste les principaux papiers du domaine sur cette page : https://spinningup.openai.com/en/latest/spinningup/keypapers.html\n",
    "On rajoutera aussi le livre de Sutton et al.: http://incompleteideas.net/book/RLbook2020.pdf\n"
   ]
  },
  {
   "cell_type": "markdown",
   "metadata": {},
   "source": [
    "## 1: Scrapping des pdf\n",
    "### Récupération des liens"
   ]
  },
  {
   "cell_type": "code",
   "execution_count": 8,
   "metadata": {},
   "outputs": [],
   "source": [
    "import requests\n",
    "from bs4 import BeautifulSoup"
   ]
  },
  {
   "cell_type": "code",
   "execution_count": 9,
   "metadata": {},
   "outputs": [
    {
     "name": "stdout",
     "output_type": "stream",
     "text": [
      "liens trouvés:  ['https://www.cs.toronto.edu/~vmnih/docs/dqn.pdf', 'https://arxiv.org/abs/1507.06527', 'https://arxiv.org/abs/1511.06581', 'https://arxiv.org/abs/1509.06461', 'https://arxiv.org/abs/1511.05952', 'https://arxiv.org/abs/1710.02298', 'https://arxiv.org/abs/1602.01783', 'https://arxiv.org/abs/1502.05477', 'https://arxiv.org/abs/1506.02438', 'https://arxiv.org/abs/1707.06347', 'https://arxiv.org/abs/1707.02286', 'https://arxiv.org/abs/1708.05144', 'https://arxiv.org/abs/1611.01224', 'https://arxiv.org/abs/1801.01290', 'http://proceedings.mlr.press/v32/silver14.pdf', 'https://arxiv.org/abs/1509.02971', 'https://arxiv.org/abs/1802.09477', 'https://arxiv.org/abs/1707.06887', 'https://arxiv.org/abs/1710.10044', 'https://arxiv.org/abs/1806.06923', 'https://openreview.net/forum?id=ByG_3s09KX', 'https://github.com/google/dopamine', 'https://arxiv.org/abs/1611.02247', 'https://arxiv.org/abs/1710.11198', 'https://arxiv.org/abs/1802.10031', 'https://arxiv.org/abs/1702.08892', 'https://arxiv.org/abs/1707.01891', 'https://arxiv.org/abs/1611.01626', 'https://arxiv.org/abs/1704.04651', 'http://papers.nips.cc/paper/6974-interpolated-policy-gradient-merging-on-policy-and-off-policy-gradient-estimation-for-deep-reinforcement-learning', 'https://arxiv.org/abs/1704.06440', 'https://arxiv.org/abs/1703.03864', 'https://arxiv.org/abs/1605.09674', 'https://arxiv.org/abs/1606.01868', 'https://arxiv.org/abs/1703.01310', 'https://arxiv.org/abs/1611.04717', 'https://arxiv.org/abs/1703.01260', 'https://arxiv.org/abs/1705.05363', 'https://arxiv.org/abs/1808.04355', 'https://arxiv.org/abs/1810.12894', 'https://arxiv.org/abs/1611.07507', 'https://arxiv.org/abs/1802.06070', 'https://arxiv.org/abs/1807.10299', 'https://arxiv.org/abs/1606.04671', 'http://proceedings.mlr.press/v37/schaul15.pdf', 'https://arxiv.org/abs/1611.05397', 'https://arxiv.org/abs/1707.03300', 'https://arxiv.org/abs/1701.08734', 'https://arxiv.org/abs/1707.07907', 'https://openreview.net/forum?id=rk07ZXZRb&noteId=rk07ZXZRb', 'https://arxiv.org/abs/1707.01495', 'https://arxiv.org/abs/1606.04695', 'https://arxiv.org/abs/1703.01161', 'https://arxiv.org/abs/1805.08296', 'https://arxiv.org/abs/1606.04460', 'https://arxiv.org/abs/1703.01988', 'https://arxiv.org/abs/1702.08360', 'https://arxiv.org/abs/1803.10760', 'https://arxiv.org/abs/1806.01822', 'https://arxiv.org/abs/1707.06203', 'https://arxiv.org/abs/1708.02596', 'https://arxiv.org/abs/1803.00101', 'https://arxiv.org/abs/1807.01675', 'https://openreview.net/forum?id=SJJinbWRZ&noteId=SJJinbWRZ', 'https://arxiv.org/abs/1809.05214', 'https://arxiv.org/abs/1809.01999', 'https://arxiv.org/abs/1712.01815', 'https://arxiv.org/abs/1705.08439', 'https://arxiv.org/abs/1611.02779', 'https://arxiv.org/abs/1611.05763', 'https://arxiv.org/abs/1703.03400', 'https://openreview.net/forum?id=B1DmUzWAW&noteId=B1DmUzWAW', 'https://arxiv.org/abs/1803.02811', 'https://arxiv.org/abs/1802.01561', 'https://openreview.net/forum?id=H1Dy---0Z', 'https://openreview.net/forum?id=r1lyTjAqYX', 'https://arxiv.org/abs/1712.09381', 'https://ray.readthedocs.io/en/latest/rllib.html', 'https://arxiv.org/abs/1809.07731', 'https://arxiv.org/abs/1808.00177', 'https://arxiv.org/abs/1806.10293', 'https://arxiv.org/abs/1811.00260', 'https://arxiv.org/abs/1606.06565', 'https://arxiv.org/abs/1706.03741', 'https://arxiv.org/abs/1705.10528', 'https://arxiv.org/abs/1801.08757', 'https://arxiv.org/abs/1707.05173', 'https://arxiv.org/abs/1711.06782', 'http://www.cs.cmu.edu/~bziebart/publications/thesis-bziebart.pdf', 'https://arxiv.org/abs/1603.00448', 'https://arxiv.org/abs/1606.03476', 'https://xbpeng.github.io/projects/DeepMimic/2018_TOG_DeepMimic.pdf', 'https://arxiv.org/abs/1810.00821', 'https://arxiv.org/abs/1810.05017', 'https://arxiv.org/abs/1604.06778', 'https://arxiv.org/abs/1708.04133', 'https://arxiv.org/abs/1709.06560', 'https://arxiv.org/abs/1810.02525', 'https://arxiv.org/abs/1811.02553', 'https://arxiv.org/abs/1803.07055', 'https://arxiv.org/abs/1907.02057', 'https://papers.nips.cc/paper/1713-policy-gradient-methods-for-reinforcement-learning-with-function-approximation.pdf', 'http://web.mit.edu/jnt/www/Papers/J063-97-bvr-td.pdf', 'http://www.kyb.mpg.de/fileadmin/user_upload/files/publications/attachments/Neural-Netw-2008-21-682_4867%5b0%5d.pdf', 'https://people.eecs.berkeley.edu/~pabbeel/cs287-fa09/readings/KakadeLangford-icml2002.pdf', 'https://papers.nips.cc/paper/2073-a-natural-policy-gradient.pdf', 'https://sites.ualberta.ca/~szepesva/papers/RLAlgsInMDPs.pdf']\n",
      "['/pdf/1507.06527']\n",
      "['/pdf/1511.06581']\n",
      "['/pdf/1509.06461']\n",
      "['/pdf/1511.05952']\n",
      "['/pdf/1710.02298']\n",
      "['/pdf/1602.01783']\n",
      "['/pdf/1502.05477']\n",
      "['/pdf/1506.02438']\n",
      "['/pdf/1707.06347']\n",
      "['/pdf/1707.02286']\n",
      "['/pdf/1708.05144']\n",
      "['/pdf/1611.01224']\n",
      "['/pdf/1801.01290']\n",
      "['/pdf/1509.02971']\n",
      "['/pdf/1802.09477']\n",
      "['/pdf/1707.06887']\n",
      "['/pdf/1710.10044']\n",
      "['/pdf/1806.06923']\n",
      "['/pdf?id=ByG_3s09KX']\n",
      "['/pdf/1611.02247']\n",
      "['/pdf/1710.11198']\n",
      "['/pdf/1802.10031']\n",
      "['/pdf/1702.08892']\n",
      "['/pdf/1707.01891']\n",
      "['/pdf/1611.01626']\n",
      "['/pdf/1704.04651']\n",
      "['/pdf/1704.06440']\n",
      "['/pdf/1703.03864']\n",
      "['/pdf/1605.09674']\n",
      "['/pdf/1606.01868']\n",
      "['/pdf/1703.01310']\n",
      "['/pdf/1611.04717']\n",
      "['/pdf/1703.01260']\n",
      "['/pdf/1705.05363']\n",
      "['/pdf/1808.04355']\n",
      "['/pdf/1810.12894']\n",
      "['/pdf/1611.07507']\n",
      "['/pdf/1802.06070']\n",
      "['/pdf/1807.10299']\n",
      "['/pdf/1606.04671']\n",
      "['/pdf/1611.05397']\n",
      "['/pdf/1707.03300']\n",
      "['/pdf/1701.08734']\n",
      "['/pdf/1707.07907']\n",
      "['/pdf?id=rk07ZXZRb']\n",
      "['/pdf/1707.01495']\n",
      "['/pdf/1606.04695']\n",
      "['/pdf/1703.01161']\n",
      "['/pdf/1805.08296']\n",
      "['/pdf/1606.04460']\n",
      "['/pdf/1703.01988']\n",
      "['/pdf/1702.08360']\n",
      "['/pdf/1803.10760']\n",
      "['/pdf/1806.01822']\n",
      "['/pdf/1707.06203']\n",
      "['/pdf/1708.02596']\n",
      "['/pdf/1803.00101']\n",
      "['/pdf/1807.01675']\n",
      "['/pdf?id=SJJinbWRZ']\n",
      "['/pdf/1809.05214']\n",
      "['/pdf/1809.01999']\n",
      "['/pdf/1712.01815']\n",
      "['/pdf/1705.08439']\n",
      "['/pdf/1611.02779']\n",
      "['/pdf/1611.05763']\n",
      "['/pdf/1703.03400']\n",
      "['/pdf?id=B1DmUzWAW']\n",
      "['/pdf/1803.02811']\n",
      "['/pdf/1802.01561']\n",
      "['/pdf?id=H1Dy---0Z']\n",
      "['/pdf?id=r1lyTjAqYX']\n",
      "['/pdf/1712.09381']\n",
      "['/pdf/1809.07731']\n",
      "['/pdf/1808.00177']\n",
      "['/pdf/1806.10293']\n",
      "['/pdf/1811.00260']\n",
      "['/pdf/1606.06565']\n",
      "['/pdf/1706.03741']\n",
      "['/pdf/1705.10528']\n",
      "['/pdf/1801.08757']\n",
      "['/pdf/1707.05173']\n",
      "['/pdf/1711.06782']\n",
      "['/pdf/1603.00448']\n",
      "['/pdf/1606.03476']\n",
      "['/pdf/1810.00821']\n",
      "['/pdf/1810.05017']\n",
      "['/pdf/1604.06778']\n",
      "['/pdf/1708.04133']\n",
      "['/pdf/1709.06560']\n",
      "['/pdf/1810.02525']\n",
      "['/pdf/1811.02553']\n",
      "['/pdf/1803.07055']\n",
      "['/pdf/1907.02057']\n"
     ]
    }
   ],
   "source": [
    "# Récupération des liens des pdfs du site\n",
    "url = \"https://spinningup.openai.com/en/latest/spinningup/keypapers.html\"\n",
    "response = requests.get(url)\n",
    "\n",
    "pdf_links = []\n",
    "\n",
    "if response.status_code == 200:\n",
    "    soup = BeautifulSoup(response.text,'html.parser')\n",
    "    links = [a['href'] for a in soup.find_all('a', class_='reference external') if 'href' in a.attrs]\n",
    "    print(\"liens trouvés: \", links)\n",
    "else:\n",
    "    print(\"Erreur lors du téléchargement de la page\")\n",
    "\n",
    "# scrapping dans arkiv et openreview\n",
    "for link in links:\n",
    "\n",
    "    if link.startswith(\"https://arxiv.org/\") or link.startswith(\"https://openreview\"):\n",
    "        a_class,pref = (\"abs-button download-pdf\",\"https://arxiv.org\") if link.startswith(\"https://arxiv.org/\") else (\"note_content_pdf\",\"https://openreview.net\")\n",
    "        r = requests.get(link)\n",
    "        if r.status_code == 200:\n",
    "            soup = BeautifulSoup(r.text,'html.parser')\n",
    "            pdf_link = [a['href'] for a in soup.find_all('a', class_=a_class) if 'href' in a.attrs]\n",
    "            print(pdf_link)\n",
    "            pdf_links.append(pref+pdf_link[0])\n",
    "        else:\n",
    "            print(\"problem\")\n",
    "\n",
    "    elif  link.endswith(\".pdf\"):\n",
    "        pdf_links.append(link)"
   ]
  },
  {
   "cell_type": "markdown",
   "metadata": {},
   "source": [
    "### Téléchargement des pdfs"
   ]
  },
  {
   "cell_type": "code",
   "execution_count": 10,
   "metadata": {},
   "outputs": [],
   "source": [
    "import os\n",
    "from tqdm import tqdm"
   ]
  },
  {
   "cell_type": "code",
   "execution_count": 11,
   "metadata": {},
   "outputs": [
    {
     "name": "stderr",
     "output_type": "stream",
     "text": [
      "0it [00:00, ?it/s]"
     ]
    },
    {
     "name": "stderr",
     "output_type": "stream",
     "text": [
      "88it [01:32,  3.01s/it]"
     ]
    },
    {
     "name": "stdout",
     "output_type": "stream",
     "text": [
      "probleme de téléchargement\n"
     ]
    },
    {
     "name": "stderr",
     "output_type": "stream",
     "text": [
      "101it [01:47,  1.68s/it]"
     ]
    },
    {
     "name": "stdout",
     "output_type": "stream",
     "text": [
      "probleme de téléchargement\n"
     ]
    },
    {
     "name": "stderr",
     "output_type": "stream",
     "text": [
      "104it [02:03,  1.19s/it]\n"
     ]
    }
   ],
   "source": [
    "if not os.path.isdir(\"data/\"):\n",
    "    os.mkdir(\"data/\")\n",
    "\n",
    "for (i,pdf_link) in tqdm(enumerate(pdf_links)):\n",
    "    pdf_r = requests.get(pdf_link)\n",
    "    if pdf_r.status_code == 200:\n",
    "        path = \"data/papier_\"+str(i)+\".pdf\"\n",
    "        with open(path,\"wb\") as f:\n",
    "            f.write(pdf_r.content)\n",
    "    else:\n",
    "        print(\"probleme de téléchargement\")"
   ]
  },
  {
   "cell_type": "markdown",
   "metadata": {},
   "source": []
  }
 ],
 "metadata": {
  "kernelspec": {
   "display_name": "Python 3",
   "language": "python",
   "name": "python3"
  },
  "language_info": {
   "codemirror_mode": {
    "name": "ipython",
    "version": 3
   },
   "file_extension": ".py",
   "mimetype": "text/x-python",
   "name": "python",
   "nbconvert_exporter": "python",
   "pygments_lexer": "ipython3",
   "version": "3.11.0"
  }
 },
 "nbformat": 4,
 "nbformat_minor": 2
}
